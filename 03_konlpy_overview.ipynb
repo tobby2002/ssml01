{
 "cells": [
  {
   "cell_type": "markdown",
   "metadata": {},
   "source": [
    "### Reference\n",
    "- http://konlpy.org/ko/latest/\n",
    "- https://datascienceschool.net/view-notebook/70ce46db4ced4a999c6ec349df0f4eb0/\n",
    "- https://www.lucypark.kr/slides/2014-pyconkr/\n",
    "- https://www.lucypark.kr/courses/2015-dm/text-mining.html"
   ]
  },
  {
   "cell_type": "code",
   "execution_count": 1,
   "metadata": {
    "ExecuteTime": {
     "end_time": "2017-07-25T08:32:18.724956Z",
     "start_time": "2017-07-25T08:32:18.674896Z"
    },
    "collapsed": true
   },
   "outputs": [],
   "source": [
    "import konlpy"
   ]
  },
  {
   "cell_type": "markdown",
   "metadata": {
    "ExecuteTime": {
     "end_time": "2017-07-21T09:22:27.320589Z",
     "start_time": "2017-07-21T09:22:27.300617Z"
    }
   },
   "source": [
    "# 말뭉치\n",
    "- http://konlpy.org/ko/latest/api/konlpy.corpus/\n",
    "- for toy project\n",
    "- kolaw: 한국 법률 말뭉치\n",
    "- kobill: 대한민국 국회 의안 말뭉치"
   ]
  },
  {
   "cell_type": "code",
   "execution_count": 2,
   "metadata": {
    "ExecuteTime": {
     "end_time": "2017-07-25T08:32:18.754389Z",
     "start_time": "2017-07-25T08:32:18.726558Z"
    }
   },
   "outputs": [
    {
     "data": {
      "text/plain": [
       "['constitution.txt']"
      ]
     },
     "execution_count": 2,
     "metadata": {},
     "output_type": "execute_result"
    }
   ],
   "source": [
    "from konlpy.corpus import kolaw\n",
    "kolaw.fileids()"
   ]
  },
  {
   "cell_type": "code",
   "execution_count": 3,
   "metadata": {
    "ExecuteTime": {
     "end_time": "2017-07-25T08:32:18.790830Z",
     "start_time": "2017-07-25T08:32:18.756575Z"
    },
    "scrolled": true
   },
   "outputs": [
    {
     "name": "stdout",
     "output_type": "stream",
     "text": [
      "대한민국헌법\n",
      "\n",
      "유구한 역사와 전통에 빛나는 우리 대한국민은 3·1운동으로 건립된 대한민국임시정부의 법통과 불의에 항거한 4·19민주이념을 계승하고, 조국의 민주개혁과 평화적 통일의\n"
     ]
    }
   ],
   "source": [
    "c = kolaw.open('constitution.txt').read()\n",
    "print(c[:100])"
   ]
  },
  {
   "cell_type": "code",
   "execution_count": 4,
   "metadata": {
    "ExecuteTime": {
     "end_time": "2017-07-25T08:32:18.822868Z",
     "start_time": "2017-07-25T08:32:18.796934Z"
    }
   },
   "outputs": [
    {
     "data": {
      "text/plain": [
       "['1809890.txt',\n",
       " '1809891.txt',\n",
       " '1809892.txt',\n",
       " '1809893.txt',\n",
       " '1809894.txt',\n",
       " '1809895.txt',\n",
       " '1809896.txt',\n",
       " '1809897.txt',\n",
       " '1809898.txt',\n",
       " '1809899.txt']"
      ]
     },
     "execution_count": 4,
     "metadata": {},
     "output_type": "execute_result"
    }
   ],
   "source": [
    "from konlpy.corpus import kobill\n",
    "kobill.fileids()"
   ]
  },
  {
   "cell_type": "code",
   "execution_count": 5,
   "metadata": {
    "ExecuteTime": {
     "end_time": "2017-07-25T08:32:18.860994Z",
     "start_time": "2017-07-25T08:32:18.826118Z"
    }
   },
   "outputs": [
    {
     "name": "stdout",
     "output_type": "stream",
     "text": [
      "교육공무원법 일부개정법률안\n",
      "\n",
      "(정의화의원 대표발의 )\n",
      "\n",
      " 의 안\n",
      " 번 호\n",
      "\n",
      "9892\n",
      "\n",
      "발의연월일 : 2010.  11.  12.  \n",
      "\n",
      "발  의  자 : 정의화․이명수․김을동 \n",
      "\n",
      "이\n"
     ]
    }
   ],
   "source": [
    "d = kobill.open('1809892.txt').read()\n",
    "print(d[:100])"
   ]
  },
  {
   "cell_type": "markdown",
   "metadata": {},
   "source": [
    "# 형태소 분석 / 품사 태깅\n",
    "\n",
    "아래 5개의 형태소 분석 / 품사 태깅 관련 라이브러리를 파이썬으로 포팅한 형태\n",
    "\n",
    "- Kkma\n",
    "    - http://kkma.snu.ac.kr/\n",
    "- Hannanum\n",
    "    - http://semanticweb.kaist.ac.kr/hannanum/\n",
    "- Twitter\n",
    "    - https://github.com/twitter/twitter-korean-text/\n",
    "- Komoran\n",
    "    - http://www.shineware.co.kr/?page_id=835\n",
    "- Mecab\n",
    "    - https://bitbucket.org/eunjeon/mecab-ko-dic\n",
    "    \n",
    "각 라이브러리는 다른 데이터로 학습되었으며, 태깅되는 품사도 다름\n",
    "- [라이브러리 별 품사 기준](https://docs.google.com/spreadsheets/d/1OGAjUvalBuX-oZvZ_-9tEfYD2gQe7hTGsgUpiiBSXI8/edit#gid=0)\n",
    "\n",
    "\n",
    "- **가장 빠른 것은 Mecab**\n",
    "    - 위키피디아/세종코퍼스 등으로만 학습되어 구어체에 약함\n",
    "\n",
    "\n",
    "- **구어체에 가장 가까운 것은 Twitter**\n",
    "\n",
    "\n",
    "- 실행시간 비교 http://konlpy.org/ko/latest/morph/\n",
    "\n",
    "    <img src=\"http://konlpy.org/ko/latest/_images/time.png\">\n",
    "\n"
   ]
  },
  {
   "cell_type": "code",
   "execution_count": 6,
   "metadata": {
    "ExecuteTime": {
     "end_time": "2017-07-25T08:32:18.896734Z",
     "start_time": "2017-07-25T08:32:18.865694Z"
    },
    "collapsed": true
   },
   "outputs": [],
   "source": [
    "from konlpy.tag import Hannanum, Kkma, Komoran, Mecab, Twitter "
   ]
  },
  {
   "cell_type": "markdown",
   "metadata": {},
   "source": [
    "로딩 시간: 사전 로딩을 포함하여 클래스를 로딩하는 시간.\n",
    "- Kkma: 5.6988 secs\n",
    "- Komoran: 5.4866 secs\n",
    "- Hannanum: 0.6591 secs\n",
    "- Twitter: 1.4870 secs\n",
    "- Mecab: 0.0007 secs\n",
    "\n",
    "실행시간: 10만 문자의 문서를 대상으로 각 클래스의 pos 메소드를 실행하는데 소요되는 시간.\n",
    "- Kkma: 35.7163 secs\n",
    "- Komoran: 25.6008 secs\n",
    "- Hannanum: 8.8251 secs\n",
    "- Twitter: 2.4714 secs\n",
    "- Mecab: 0.2838 secs"
   ]
  },
  {
   "cell_type": "code",
   "execution_count": 7,
   "metadata": {
    "ExecuteTime": {
     "end_time": "2017-07-25T08:32:19.110438Z",
     "start_time": "2017-07-25T08:32:18.898179Z"
    },
    "collapsed": true
   },
   "outputs": [],
   "source": [
    "kkma = Kkma()\n",
    "komoran = Komoran()\n",
    "hannanum = Hannanum()\n",
    "twitter = Twitter()\n",
    "mecab = Mecab()"
   ]
  },
  {
   "cell_type": "code",
   "execution_count": 8,
   "metadata": {
    "ExecuteTime": {
     "end_time": "2017-07-25T08:32:19.132790Z",
     "start_time": "2017-07-25T08:32:19.111982Z"
    },
    "collapsed": true
   },
   "outputs": [],
   "source": [
    "sentence = '새 맥북프로 갖고 싶다'"
   ]
  },
  {
   "cell_type": "code",
   "execution_count": 9,
   "metadata": {
    "ExecuteTime": {
     "end_time": "2017-07-25T08:32:19.157736Z",
     "start_time": "2017-07-25T08:32:19.134536Z"
    },
    "collapsed": true
   },
   "outputs": [],
   "source": [
    "names = ['꼬꼬마', '한나눔', '트위터', '미캡']\n",
    "engines = [kkma, hannanum, twitter, mecab]"
   ]
  },
  {
   "cell_type": "code",
   "execution_count": 10,
   "metadata": {
    "ExecuteTime": {
     "end_time": "2017-07-25T08:32:31.924454Z",
     "start_time": "2017-07-25T08:32:19.159122Z"
    }
   },
   "outputs": [
    {
     "name": "stdout",
     "output_type": "stream",
     "text": [
      "꼬꼬마: [('새', 'MDT'), ('맥', 'NNG'), ('북', 'NNG'), ('프로', 'NNG'), ('갖', 'VV'), ('고', 'ECE'), ('싶', 'VXA'), ('다', 'EFN')] | 7.182s\n",
      "한나눔: [('새', 'M'), ('맥북프', 'N'), ('로', 'J'), ('갖', 'P'), ('고', 'E'), ('싶', 'P'), ('다', 'E')] | 0.716s\n",
      "트위터: [('새', 'Noun'), ('맥북프로', 'Noun'), ('갖고', 'Verb'), ('싶다', 'Verb')] | 0.822s\n",
      "미캡: [('새', 'MM'), ('맥북', 'NNP'), ('프로', 'NNG'), ('갖', 'VV'), ('고', 'EC'), ('싶', 'VX'), ('다', 'EC')] | 0.001s\n"
     ]
    }
   ],
   "source": [
    "import time\n",
    "for name, engine in zip(names, engines):\n",
    "    start = time.time()\n",
    "    print(f'{name}: {engine.pos(sentence)} | {time.time()-start:.3f}s')\n",
    "    time.sleep(1)"
   ]
  },
  {
   "cell_type": "markdown",
   "metadata": {},
   "source": [
    "### Komoran has issue..\n",
    "- it should not be used with other taggers in single session"
   ]
  },
  {
   "cell_type": "code",
   "execution_count": 11,
   "metadata": {
    "ExecuteTime": {
     "end_time": "2017-07-25T08:32:31.948894Z",
     "start_time": "2017-07-25T08:32:31.927656Z"
    },
    "collapsed": true
   },
   "outputs": [],
   "source": [
    "# names = ['코모란']\n",
    "# engines = [komoran]"
   ]
  },
  {
   "cell_type": "code",
   "execution_count": 12,
   "metadata": {
    "ExecuteTime": {
     "end_time": "2017-07-25T08:32:31.972849Z",
     "start_time": "2017-07-25T08:32:31.951857Z"
    },
    "collapsed": true
   },
   "outputs": [],
   "source": [
    "# import time\n",
    "# for name, engine in zip(names, engines):\n",
    "#     start = time.time()\n",
    "#     print(f'{name}: {engine.pos(sentence)} | {time.time()-start:.2f}s')\n",
    "#     time.sleep(1)"
   ]
  },
  {
   "cell_type": "code",
   "execution_count": 13,
   "metadata": {
    "ExecuteTime": {
     "end_time": "2017-07-25T08:32:31.999143Z",
     "start_time": "2017-07-25T08:32:31.974379Z"
    }
   },
   "outputs": [
    {
     "data": {
      "text/plain": [
       "[('새', 'MM'),\n",
       " ('맥북', 'NNP'),\n",
       " ('프로', 'NNG'),\n",
       " ('갖', 'VV'),\n",
       " ('고', 'EC'),\n",
       " ('싶', 'VX'),\n",
       " ('다', 'EC')]"
      ]
     },
     "execution_count": 13,
     "metadata": {},
     "output_type": "execute_result"
    }
   ],
   "source": [
    "mecab.pos(sentence)"
   ]
  },
  {
   "cell_type": "code",
   "execution_count": 14,
   "metadata": {
    "ExecuteTime": {
     "end_time": "2017-07-25T08:32:32.034308Z",
     "start_time": "2017-07-25T08:32:32.001303Z"
    }
   },
   "outputs": [
    {
     "data": {
      "text/plain": [
       "[('새', 'Noun'), ('맥북프로', 'Noun'), ('갖고', 'Verb'), ('싶다', 'Verb')]"
      ]
     },
     "execution_count": 14,
     "metadata": {},
     "output_type": "execute_result"
    }
   ],
   "source": [
    "twitter.pos(sentence)"
   ]
  },
  {
   "cell_type": "markdown",
   "metadata": {},
   "source": [
    "# 명사 필터링\n",
    "- 대부분의 경우 조사/어미 등을 날리고 명사/동사만을 feature로 이용"
   ]
  },
  {
   "cell_type": "code",
   "execution_count": 15,
   "metadata": {
    "ExecuteTime": {
     "end_time": "2017-07-25T08:32:32.104768Z",
     "start_time": "2017-07-25T08:32:32.051523Z"
    }
   },
   "outputs": [
    {
     "data": {
      "text/plain": [
       "['맥북', '프로']"
      ]
     },
     "execution_count": 15,
     "metadata": {},
     "output_type": "execute_result"
    }
   ],
   "source": [
    "mecab.nouns(sentence)"
   ]
  },
  {
   "cell_type": "code",
   "execution_count": 16,
   "metadata": {
    "ExecuteTime": {
     "end_time": "2017-07-25T08:32:32.150135Z",
     "start_time": "2017-07-25T08:32:32.109697Z"
    }
   },
   "outputs": [
    {
     "data": {
      "text/plain": [
       "['새', '맥북프로']"
      ]
     },
     "execution_count": 16,
     "metadata": {},
     "output_type": "execute_result"
    }
   ],
   "source": [
    "twitter.nouns(sentence)"
   ]
  }
 ],
 "metadata": {
  "anaconda-cloud": {},
  "kernelspec": {
   "display_name": "Python [conda env:mldemo]",
   "language": "python",
   "name": "conda-env-mldemo-py"
  },
  "language_info": {
   "codemirror_mode": {
    "name": "ipython",
    "version": 3
   },
   "file_extension": ".py",
   "mimetype": "text/x-python",
   "name": "python",
   "nbconvert_exporter": "python",
   "pygments_lexer": "ipython3",
   "version": "3.6.0"
  },
  "varInspector": {
   "cols": {
    "lenName": 16,
    "lenType": 16,
    "lenVar": 40
   },
   "kernels_config": {
    "python": {
     "delete_cmd_postfix": "",
     "delete_cmd_prefix": "del ",
     "library": "var_list.py",
     "varRefreshCmd": "print(var_dic_list())"
    },
    "r": {
     "delete_cmd_postfix": ") ",
     "delete_cmd_prefix": "rm(",
     "library": "var_list.r",
     "varRefreshCmd": "cat(var_dic_list()) "
    }
   },
   "types_to_exclude": [
    "module",
    "function",
    "builtin_function_or_method",
    "instance",
    "_Feature"
   ],
   "window_display": false
  }
 },
 "nbformat": 4,
 "nbformat_minor": 2
}
