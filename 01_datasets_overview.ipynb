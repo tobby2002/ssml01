{
 "cells": [
  {
   "cell_type": "markdown",
   "metadata": {},
   "source": [
    "# There is nothing like (large enough/open-domain) dialogue dataset\n",
    "- 개인정보 문제 => 메신저 기업조차도 사용자 챗 데이터를 사용하지 못합니다."
   ]
  },
  {
   "cell_type": "code",
   "execution_count": null,
   "metadata": {},
   "outputs": [],
   "source": [
    "# Korean Dataset\n",
    "\n",
    "- 대화 데이터는 (당연히) 없습니다.\n",
    "- [Sejong Corpus](https://ithub.korean.go.kr/user/corpus/corpusSearchManager.do)\n",
    "- [KAIST Corpus](http://semanticweb.kaist.ac.kr/home/index.php/KAIST_Corpus)\n",
    "- [Ulsan Univ. Corpus](http://nlplab.ulsan.ac.kr/doku.php?id=ucorpus)]\n",
    "- Wikipedia Dump [[link](https://dumps.wikimedia.org/kowiki/)] [[Extractor](https://github.com/j-min/WikiExtractor_To_the_one_text)]\n",
    "- NamuWiki Dump [[link](https://namu.wiki/w/%EB%82%98%EB%AC%B4%EC%9C%84%ED%82%A4:%EB%8D%B0%EC%9D%B4%ED%84%B0%EB%B2%A0%EC%9D%B4%EC%8A%A4%20%EB%8D%A4%ED%94%84)] [[Extractor](https://github.com/j-min/Easy-Namuwiki-Extractor)]\n",
    "- [Naver sentiment movie corpus](https://github.com/e9t/nsmc/)\n",
    "\n",
    "etc.\n",
    "- [부실 의혹 '21세기 세종계획'](http://webcache.googleusercontent.com/search?q=cache:r8yE5uuz5UwJ:www.cubs.or.kr/korean/bbs/download.asp%3Fbbs_code%3Dutil_bbs70%26bbs_number%3D57%26fld%3Dfileurl+&cd=1&hl=en&ct=clnk&gl=kr)\n",
    "\n",
    "# English Dataset\n",
    "\n",
    "Language modelng\n",
    "- [PTB](http://www.nltk.org/nltk_data/)\n",
    "\n",
    "Translation\n",
    "- [WMT 2014](http://www.statmt.org/wmt14/translation-task.html#download)\n",
    "\n",
    "Dialogue\n",
    "- [Ubuntu Dialogue Corpus](https://github.com/rkadlec/ubuntu-ranking-dataset-creator) (requires Python2/unicodecsv/nltk)\n",
    "\n",
    "QA\n",
    "- [bAbI](https://research.fb.com/downloads/babi/)\n",
    "- [SQUAD](https://rajpurkar.github.io/SQuAD-explorer/)\n",
    "- [WikiQA](https://www.microsoft.com/en-us/download/details.aspx?id=52419)\n",
    "- [NewsQA](https://datasets.maluuba.com/NewsQA)\n",
    "\n",
    "Dialogue Environment\n",
    "- [CommAI](https://github.com/facebookresearch/CommAI-env)\n",
    "- [ParlAI](https://github.com/facebookresearch/ParlAI/)"
   ]
  },
  {
   "cell_type": "code",
   "execution_count": 1,
   "metadata": {},
   "outputs": [],
   "source": []
  },
  {
   "cell_type": "code",
   "execution_count": null,
   "metadata": {},
   "outputs": [],
   "source": []
  }
 ],
 "metadata": {
  "anaconda-cloud": {},
  "kernelspec": {
   "display_name": "Python [conda env:hangul]",
   "language": "python",
   "name": "conda-env-hangul-py"
  },
  "language_info": {
   "codemirror_mode": {
    "name": "ipython",
    "version": 3
   },
   "file_extension": ".py",
   "mimetype": "text/x-python",
   "name": "python",
   "nbconvert_exporter": "python",
   "pygments_lexer": "ipython3",
   "version": "3.6.2"
  },
  "varInspector": {
   "cols": {
    "lenName": 16.0,
    "lenType": 16.0,
    "lenVar": 40.0
   },
   "kernels_config": {
    "python": {
     "delete_cmd_postfix": "",
     "delete_cmd_prefix": "del ",
     "library": "var_list.py",
     "varRefreshCmd": "print(var_dic_list())"
    },
    "r": {
     "delete_cmd_postfix": ") ",
     "delete_cmd_prefix": "rm(",
     "library": "var_list.r",
     "varRefreshCmd": "cat(var_dic_list()) "
    }
   },
   "types_to_exclude": [
    "module",
    "function",
    "builtin_function_or_method",
    "instance",
    "_Feature"
   ],
   "window_display": false
  }
 },
 "nbformat": 4,
 "nbformat_minor": 2
}
